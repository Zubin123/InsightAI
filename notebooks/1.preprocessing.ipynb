{
 "cells": [
  {
   "cell_type": "code",
   "execution_count": 1,
   "id": "3a670027",
   "metadata": {},
   "outputs": [],
   "source": [
    "import os\n",
    "import pandas as pd\n",
    "import re"
   ]
  },
  {
   "cell_type": "code",
   "execution_count": 2,
   "id": "515b2e90",
   "metadata": {},
   "outputs": [
    {
     "data": {
      "text/plain": [
       "'c:\\\\Users\\\\LENOVO\\\\InsightAI\\\\notebooks'"
      ]
     },
     "execution_count": 2,
     "metadata": {},
     "output_type": "execute_result"
    }
   ],
   "source": [
    "%pwd"
   ]
  },
  {
   "cell_type": "code",
   "execution_count": 3,
   "id": "9debede0",
   "metadata": {},
   "outputs": [],
   "source": [
    "os.chdir('..')"
   ]
  },
  {
   "cell_type": "code",
   "execution_count": 4,
   "id": "72d38fa7",
   "metadata": {},
   "outputs": [
    {
     "data": {
      "text/plain": [
       "'c:\\\\Users\\\\LENOVO\\\\InsightAI'"
      ]
     },
     "execution_count": 4,
     "metadata": {},
     "output_type": "execute_result"
    }
   ],
   "source": [
    "%pwd"
   ]
  },
  {
   "cell_type": "code",
   "execution_count": 5,
   "id": "ef666520",
   "metadata": {},
   "outputs": [],
   "source": [
    "# Load data\n",
    "df = pd.read_csv('data/raw_tickets.csv')"
   ]
  },
  {
   "cell_type": "code",
   "execution_count": 6,
   "id": "74705d70",
   "metadata": {},
   "outputs": [],
   "source": [
    "# Function to clean ticket content\n",
    "def clean_text(text):\n",
    "    text = re.sub(r'[^A-Za-z0-9\\s]', '', text)  # remove punctuation\n",
    "    text = re.sub(r'\\s+', ' ', text)  # normalize spaces\n",
    "    return text.strip().lower()"
   ]
  },
  {
   "cell_type": "code",
   "execution_count": 7,
   "id": "33afd2a4",
   "metadata": {},
   "outputs": [],
   "source": [
    "# Function to mask email and phone\n",
    "def mask_pii(row):\n",
    "    row['content'] = re.sub(r'\\b[\\w\\.-]+@[\\w\\.-]+\\.\\w{2,4}\\b', '[EMAIL]', row['content'])\n",
    "    row['content'] = re.sub(r'\\+?\\d[\\d\\s\\-x()]{9,}', '[PHONE]', row['content'])\n",
    "    return row"
   ]
  },
  {
   "cell_type": "code",
   "execution_count": 8,
   "id": "6f544f23",
   "metadata": {},
   "outputs": [],
   "source": [
    "# Apply cleaning\n",
    "df['content'] = df['content'].apply(clean_text)\n",
    "df = df.apply(mask_pii, axis=1)"
   ]
  },
  {
   "cell_type": "code",
   "execution_count": 9,
   "id": "24074247",
   "metadata": {},
   "outputs": [],
   "source": [
    "# Drop raw PII columns\n",
    "df = df.drop(columns=['user_email', 'user_phone'])"
   ]
  },
  {
   "cell_type": "code",
   "execution_count": 10,
   "id": "6ef4341d",
   "metadata": {},
   "outputs": [
    {
     "name": "stdout",
     "output_type": "stream",
     "text": [
      "✅ Cleaned data saved as data/cleaned_data.csv\n"
     ]
    },
    {
     "data": {
      "text/html": [
       "<div>\n",
       "<style scoped>\n",
       "    .dataframe tbody tr th:only-of-type {\n",
       "        vertical-align: middle;\n",
       "    }\n",
       "\n",
       "    .dataframe tbody tr th {\n",
       "        vertical-align: top;\n",
       "    }\n",
       "\n",
       "    .dataframe thead th {\n",
       "        text-align: right;\n",
       "    }\n",
       "</style>\n",
       "<table border=\"1\" class=\"dataframe\">\n",
       "  <thead>\n",
       "    <tr style=\"text-align: right;\">\n",
       "      <th></th>\n",
       "      <th>ticket_id</th>\n",
       "      <th>timestamp</th>\n",
       "      <th>source</th>\n",
       "      <th>department</th>\n",
       "      <th>content</th>\n",
       "    </tr>\n",
       "  </thead>\n",
       "  <tbody>\n",
       "    <tr>\n",
       "      <th>0</th>\n",
       "      <td>TKT1000</td>\n",
       "      <td>2025-03-22 11:48:30</td>\n",
       "      <td>email</td>\n",
       "      <td>HR</td>\n",
       "      <td>dawn ochoa from wilcox inc in nguyenfort repor...</td>\n",
       "    </tr>\n",
       "    <tr>\n",
       "      <th>1</th>\n",
       "      <td>TKT1001</td>\n",
       "      <td>2025-01-30 09:53:45</td>\n",
       "      <td>chat</td>\n",
       "      <td>Sales</td>\n",
       "      <td>robert smith from cruz ltd in east amanda repo...</td>\n",
       "    </tr>\n",
       "    <tr>\n",
       "      <th>2</th>\n",
       "      <td>TKT1002</td>\n",
       "      <td>2025-02-17 11:54:11</td>\n",
       "      <td>chat</td>\n",
       "      <td>Sales</td>\n",
       "      <td>steven king from paynefitzpatrick in new ashle...</td>\n",
       "    </tr>\n",
       "    <tr>\n",
       "      <th>3</th>\n",
       "      <td>TKT1003</td>\n",
       "      <td>2025-03-01 20:47:38</td>\n",
       "      <td>email</td>\n",
       "      <td>Sales</td>\n",
       "      <td>timothy trevino from jones inc in heathchester...</td>\n",
       "    </tr>\n",
       "    <tr>\n",
       "      <th>4</th>\n",
       "      <td>TKT1004</td>\n",
       "      <td>2025-05-08 19:58:59</td>\n",
       "      <td>call</td>\n",
       "      <td>Finance</td>\n",
       "      <td>pamela harris from johnson smith and wright in...</td>\n",
       "    </tr>\n",
       "  </tbody>\n",
       "</table>\n",
       "</div>"
      ],
      "text/plain": [
       "  ticket_id            timestamp source department  \\\n",
       "0   TKT1000  2025-03-22 11:48:30  email         HR   \n",
       "1   TKT1001  2025-01-30 09:53:45   chat      Sales   \n",
       "2   TKT1002  2025-02-17 11:54:11   chat      Sales   \n",
       "3   TKT1003  2025-03-01 20:47:38  email      Sales   \n",
       "4   TKT1004  2025-05-08 19:58:59   call    Finance   \n",
       "\n",
       "                                             content  \n",
       "0  dawn ochoa from wilcox inc in nguyenfort repor...  \n",
       "1  robert smith from cruz ltd in east amanda repo...  \n",
       "2  steven king from paynefitzpatrick in new ashle...  \n",
       "3  timothy trevino from jones inc in heathchester...  \n",
       "4  pamela harris from johnson smith and wright in...  "
      ]
     },
     "execution_count": 10,
     "metadata": {},
     "output_type": "execute_result"
    }
   ],
   "source": [
    "# Save cleaned data\n",
    "df.to_csv('data/cleaned_data.csv', index=False)\n",
    "print(\"✅ Cleaned data saved as data/cleaned_data.csv\")\n",
    "df.head()"
   ]
  },
  {
   "cell_type": "code",
   "execution_count": null,
   "id": "1744f42e",
   "metadata": {},
   "outputs": [],
   "source": []
  },
  {
   "cell_type": "code",
   "execution_count": null,
   "id": "cf320bd7",
   "metadata": {},
   "outputs": [],
   "source": []
  }
 ],
 "metadata": {
  "kernelspec": {
   "display_name": "insightenv",
   "language": "python",
   "name": "python3"
  },
  "language_info": {
   "codemirror_mode": {
    "name": "ipython",
    "version": 3
   },
   "file_extension": ".py",
   "mimetype": "text/x-python",
   "name": "python",
   "nbconvert_exporter": "python",
   "pygments_lexer": "ipython3",
   "version": "3.10.18"
  }
 },
 "nbformat": 4,
 "nbformat_minor": 5
}
