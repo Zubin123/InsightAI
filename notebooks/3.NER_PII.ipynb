{
 "cells": [
  {
   "cell_type": "code",
   "execution_count": 29,
   "id": "d2908548",
   "metadata": {},
   "outputs": [],
   "source": [
    "import os"
   ]
  },
  {
   "cell_type": "code",
   "execution_count": 52,
   "id": "0853c103",
   "metadata": {},
   "outputs": [
    {
     "data": {
      "text/plain": [
       "'c:\\\\Users\\\\LENOVO\\\\InsightAI'"
      ]
     },
     "execution_count": 52,
     "metadata": {},
     "output_type": "execute_result"
    }
   ],
   "source": [
    "%pwd"
   ]
  },
  {
   "cell_type": "code",
   "execution_count": 53,
   "id": "f7efc8cb",
   "metadata": {},
   "outputs": [
    {
     "data": {
      "text/plain": [
       "'c:\\\\Users\\\\LENOVO\\\\InsightAI'"
      ]
     },
     "execution_count": 53,
     "metadata": {},
     "output_type": "execute_result"
    }
   ],
   "source": [
    "os.getcwd()"
   ]
  },
  {
   "cell_type": "code",
   "execution_count": 54,
   "id": "113cd875",
   "metadata": {},
   "outputs": [],
   "source": [
    "import pandas as pd\n",
    "import spacy\n",
    "import re"
   ]
  },
  {
   "cell_type": "code",
   "execution_count": 56,
   "id": "2f764e90",
   "metadata": {},
   "outputs": [],
   "source": [
    "# Load data\n",
    "df = pd.read_csv(\"data/clustered_tickets.csv\")"
   ]
  },
  {
   "cell_type": "code",
   "execution_count": 57,
   "id": "a81e56a3",
   "metadata": {},
   "outputs": [],
   "source": [
    "# Load SpaCy English model\n",
    "nlp = spacy.load(\"en_core_web_sm\")"
   ]
  },
  {
   "cell_type": "code",
   "execution_count": 58,
   "id": "294e03df",
   "metadata": {},
   "outputs": [],
   "source": [
    "def mask_entities(text):\n",
    "    doc = nlp(text)\n",
    "    masked = text\n",
    "    for ent in doc.ents:\n",
    "        if ent.label_ in [\"PERSON\", \"ORG\", \"GPE\", \"LOC\"]:\n",
    "            masked = masked.replace(ent.text, f\"[{ent.label_}]\")\n",
    "    \n",
    "    # Mask any email or phone using regex\n",
    "    masked = re.sub(r'\\b[\\w\\.-]+@[\\w\\.-]+\\.\\w{2,4}\\b', '[EMAIL]', masked)\n",
    "    masked = re.sub(r'\\+?\\d[\\d\\s\\-x()]{9,}', '[PHONE]', masked)\n",
    "    \n",
    "    return masked\n"
   ]
  },
  {
   "cell_type": "code",
   "execution_count": 59,
   "id": "ac78ebf4",
   "metadata": {},
   "outputs": [],
   "source": [
    "# Apply masking\n",
    "df['pii_masked_content'] = df['content'].apply(mask_entities)"
   ]
  },
  {
   "cell_type": "code",
   "execution_count": 60,
   "id": "7098fb57",
   "metadata": {},
   "outputs": [
    {
     "name": "stdout",
     "output_type": "stream",
     "text": [
      "✅ Saved PII-masked data as ner_masked_data.csv\n"
     ]
    },
    {
     "data": {
      "text/html": [
       "<div>\n",
       "<style scoped>\n",
       "    .dataframe tbody tr th:only-of-type {\n",
       "        vertical-align: middle;\n",
       "    }\n",
       "\n",
       "    .dataframe tbody tr th {\n",
       "        vertical-align: top;\n",
       "    }\n",
       "\n",
       "    .dataframe thead th {\n",
       "        text-align: right;\n",
       "    }\n",
       "</style>\n",
       "<table border=\"1\" class=\"dataframe\">\n",
       "  <thead>\n",
       "    <tr style=\"text-align: right;\">\n",
       "      <th></th>\n",
       "      <th>content</th>\n",
       "      <th>pii_masked_content</th>\n",
       "    </tr>\n",
       "  </thead>\n",
       "  <tbody>\n",
       "    <tr>\n",
       "      <th>94</th>\n",
       "      <td>carrie liu from williams group in east ronaldt...</td>\n",
       "      <td>[PERSON] from [PERSON] group in [LOC] reported...</td>\n",
       "    </tr>\n",
       "    <tr>\n",
       "      <th>95</th>\n",
       "      <td>joshua reynolds from davis inc in north robert...</td>\n",
       "      <td>[PERSON] from [ORG] in [LOC] reported environm...</td>\n",
       "    </tr>\n",
       "    <tr>\n",
       "      <th>96</th>\n",
       "      <td>brooke brooks from smith inc in port arielberg...</td>\n",
       "      <td>[PERSON] from [ORG] port arielberg reported sc...</td>\n",
       "    </tr>\n",
       "    <tr>\n",
       "      <th>97</th>\n",
       "      <td>kimberly clark from mooregarcia in west jonath...</td>\n",
       "      <td>[PERSON] from mooregarcia in [GPE] reported ye...</td>\n",
       "    </tr>\n",
       "    <tr>\n",
       "      <th>98</th>\n",
       "      <td>benjamin taylor from martin ltd in lake jacobs...</td>\n",
       "      <td>[PERSON] from [ORG] in lake jacobside reported...</td>\n",
       "    </tr>\n",
       "    <tr>\n",
       "      <th>99</th>\n",
       "      <td>billy larson from burgess group in south victo...</td>\n",
       "      <td>[PERSON] from burgess group in south victorfur...</td>\n",
       "    </tr>\n",
       "  </tbody>\n",
       "</table>\n",
       "</div>"
      ],
      "text/plain": [
       "                                              content  \\\n",
       "94  carrie liu from williams group in east ronaldt...   \n",
       "95  joshua reynolds from davis inc in north robert...   \n",
       "96  brooke brooks from smith inc in port arielberg...   \n",
       "97  kimberly clark from mooregarcia in west jonath...   \n",
       "98  benjamin taylor from martin ltd in lake jacobs...   \n",
       "99  billy larson from burgess group in south victo...   \n",
       "\n",
       "                                   pii_masked_content  \n",
       "94  [PERSON] from [PERSON] group in [LOC] reported...  \n",
       "95  [PERSON] from [ORG] in [LOC] reported environm...  \n",
       "96  [PERSON] from [ORG] port arielberg reported sc...  \n",
       "97  [PERSON] from mooregarcia in [GPE] reported ye...  \n",
       "98  [PERSON] from [ORG] in lake jacobside reported...  \n",
       "99  [PERSON] from burgess group in south victorfur...  "
      ]
     },
     "execution_count": 60,
     "metadata": {},
     "output_type": "execute_result"
    }
   ],
   "source": [
    "# Save output\n",
    "df.to_csv(\"data/ner_masked_data.csv\", index=False)\n",
    "print(\"✅ Saved PII-masked data as ner_masked_data.csv\")\n",
    "df[['content', 'pii_masked_content']].tail(6)\n"
   ]
  },
  {
   "cell_type": "code",
   "execution_count": null,
   "id": "93807646",
   "metadata": {},
   "outputs": [],
   "source": []
  }
 ],
 "metadata": {
  "kernelspec": {
   "display_name": "insightenv",
   "language": "python",
   "name": "python3"
  },
  "language_info": {
   "codemirror_mode": {
    "name": "ipython",
    "version": 3
   },
   "file_extension": ".py",
   "mimetype": "text/x-python",
   "name": "python",
   "nbconvert_exporter": "python",
   "pygments_lexer": "ipython3",
   "version": "3.10.18"
  }
 },
 "nbformat": 4,
 "nbformat_minor": 5
}
